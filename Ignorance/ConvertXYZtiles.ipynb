{
 "cells": [
  {
   "cell_type": "code",
   "execution_count": 1,
   "id": "406dd99d-f4d2-4d26-81f6-1d122c5107ac",
   "metadata": {
    "tags": []
   },
   "outputs": [],
   "source": [
    "import json\n",
    "import os"
   ]
  },
  {
   "cell_type": "code",
   "execution_count": 2,
   "id": "9e73d596-e577-421b-bef9-33c73111a6e8",
   "metadata": {
    "tags": []
   },
   "outputs": [
    {
     "data": {
      "text/plain": [
       "39"
      ]
     },
     "execution_count": 2,
     "metadata": {},
     "output_type": "execute_result"
    }
   ],
   "source": [
    "with open(r'C:\\Users\\Administrator\\Desktop\\providers.json', 'r') as f1:\n",
    "    data = json.load(f1)\n",
    "\n",
    "f2 = open(r'QGIS_xyz_tile_servers.xml', 'wt')\n",
    "f2.write('<!DOCTYPE connections>\\n')\n",
    "f2.write('<qgsXYZTilesConnections version=\"1.0\">\\n')"
   ]
  },
  {
   "cell_type": "code",
   "execution_count": 3,
   "id": "196e2d59-c3c5-4d5c-908c-d98cef553c6a",
   "metadata": {
    "tags": []
   },
   "outputs": [
    {
     "data": {
      "text/plain": [
       "dict_keys(['Mapnik', 'DE', 'CH', 'France', 'HOT', 'BZH', 'BlackAndWhite'])"
      ]
     },
     "execution_count": 3,
     "metadata": {},
     "output_type": "execute_result"
    }
   ],
   "source": [
    "data['OpenStreetMap'].keys()"
   ]
  },
  {
   "cell_type": "code",
   "execution_count": 4,
   "id": "562ce18c-98ce-4457-b304-0d6bafe4b440",
   "metadata": {
    "tags": []
   },
   "outputs": [
    {
     "data": {
      "text/plain": [
       "25"
      ]
     },
     "execution_count": 4,
     "metadata": {},
     "output_type": "execute_result"
    }
   ],
   "source": [
    "n = 1\n",
    "for key in data:\n",
    "    data2 = data[key]\n",
    "    for key2 in data2:\n",
    "        data3 = data2[key2]\n",
    "        \n",
    "        # 遍历每一个字典\n",
    "        if isinstance(data3, dict):\n",
    "            \n",
    "            # 读取URL\n",
    "            if 'url' in data3:\n",
    "                url = data3['url']\n",
    "                if url.find('key') != -1: continue\n",
    "                if url.find('Key') != -1: continue\n",
    "                if url.find('Token') != -1: continue\n",
    "                if url.find('app_id') != -1: continue\n",
    "                if url.find('{time}') != -1: continue\n",
    "                if url.find('variant') != -1 and 'variant' in data3:\n",
    "                    url = url.replace('{variant}', data3['variant'])\n",
    "                if url.find('ext') != -1 and 'ext' in data3:\n",
    "                    url = url.replace('{ext}', data3['ext'])\n",
    "                if url.find('format') != -1 and 'format' in data3:\n",
    "                    url = url.replace('{format}', data3['format'])\n",
    "                \n",
    "                # 写入文件\n",
    "                f2.write('<xyztiles url=\"'+url+'\" ')\n",
    "                \n",
    "            else:\n",
    "                continue\n",
    "                \n",
    "            # 读取名称\n",
    "            if 'name' in data3:\n",
    "                name = data3['name']\n",
    "                f2.write('name=\"'+name+'\" ')\n",
    "            else:\n",
    "                f2.write('name=\"\" ')\n",
    "                \n",
    "            # 读取最大缩放级别\n",
    "            if 'max_zoom' in data3:\n",
    "                max_zoom = data3['max_zoom']\n",
    "                f2.write('zmax=\"'+str(max_zoom)+'\" ')\n",
    "            else:\n",
    "                f2.write('zmax=\"18\" ')\n",
    "                \n",
    "            # 读取最小缩放级别\n",
    "            if 'min_zoom' in data3:\n",
    "                min_zoom = data3['min_zoom']\n",
    "                f2.write('zmin=\"'+str(min_zoom)+'\" ')\n",
    "            else:\n",
    "                f2.write('zmin=\"0\" ')\n",
    "            \n",
    "            #写入段落结束语\n",
    "            f2.write(r'referer=\"\" authcfg=\"\" username=\"\" password=\"\" tilePixelRatio=\"0\"') \n",
    "            f2.write('/>\\n')\n",
    "            n = n + 1\n",
    "\n",
    "f2.write('</qgsXYZTilesConnections>')"
   ]
  },
  {
   "cell_type": "code",
   "execution_count": 5,
   "id": "101bfec3-5c6c-4c69-998f-c10b84b44602",
   "metadata": {
    "tags": []
   },
   "outputs": [],
   "source": [
    "f2.close()"
   ]
  },
  {
   "cell_type": "code",
   "execution_count": null,
   "id": "8d11e993-7f6b-454d-b64c-e478c1210637",
   "metadata": {},
   "outputs": [],
   "source": []
  }
 ],
 "metadata": {
  "kernelspec": {
   "display_name": "Python 3 (ipykernel)",
   "language": "python",
   "name": "python3"
  },
  "language_info": {
   "codemirror_mode": {
    "name": "ipython",
    "version": 3
   },
   "file_extension": ".py",
   "mimetype": "text/x-python",
   "name": "python",
   "nbconvert_exporter": "python",
   "pygments_lexer": "ipython3",
   "version": "3.10.13"
  }
 },
 "nbformat": 4,
 "nbformat_minor": 5
}
